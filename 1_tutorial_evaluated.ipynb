{
 "cells": [
  {
   "cell_type": "markdown",
   "metadata": {},
   "source": [
    "based on https://hsf-training.github.io/hsf-training-scikit-hep-webpage/"
   ]
  },
  {
   "cell_type": "markdown",
   "metadata": {
    "id": "bUPo8GtaAwjy"
   },
   "source": [
    "## **Introduction**\n",
    "\n",
    "We will study basic tools and wrappers for enabling not-too-alien syntax when running columnar collider HEP analysis. This tools are part of a pythonic HEP ecosystem. "
   ]
  },
  {
   "cell_type": "markdown",
   "metadata": {
    "id": "A57NPZLa8Zjh"
   },
   "source": [
    "![](https://i.imgur.com/3a11SeT.png)"
   ]
  },
  {
   "cell_type": "markdown",
   "metadata": {},
   "source": [
    "To make things easier to find, they're cataloged under a common name at [scikit-hep.org](https://scikit-hep.org/)"
   ]
  },
  {
   "cell_type": "markdown",
   "metadata": {
    "id": "uzQV_LLS_lrI"
   },
   "source": [
    "## **ROOT file structure and terminology**\n",
    "\n",
    "A ROOT file is like a little filesystem containing nested directories. Any class instance (like `ROOT TObject`) can be stored in a directory.\n",
    "\n",
    "One of these classes, TTree, is a gateway to large datasets. A TTree is roughly like a Pandas DataFrame in that it represents a table of data. The columns are called TBranches, which can be nested (unlike Pandas), and the data can have any C++ type (unlike Pandas, which can store any Python type).\n",
    "\n",
    "A TTree is often too large to fit in memory, and sometimes (rarely) even a single TBranch is too large to fit in memory. Each TBranch is therefore broken down into TBaskets, which are “batches” of data. TBaskets are the smallest unit that can be read from a TTree: if you want to read the first entry, you have to read the first TBasket.\n",
    "\n",
    "As a data analyst, you’ll likely be concerned with TTrees and TBranches first-hand, but only TBaskets when efficiency issues come up"
   ]
  },
  {
   "cell_type": "markdown",
   "metadata": {
    "id": "b5fA8LZ4Af2N"
   },
   "source": [
    "![](https://i.imgur.com/gkN0q9f.png)"
   ]
  },
  {
   "cell_type": "markdown",
   "metadata": {
    "id": "0yYQAf2FOnQ2"
   },
   "source": [
    "CMS data has this structure and can be found in different formats. One of these formats is the so-called **NanoAOD** format. A NanoAOD file contains a main TTree named **Events**. A dump of the documentation of content for different releases is available [here](https://cms-nanoaod-integration.web.cern.ch/autoDoc/)"
   ]
  },
  {
   "cell_type": "markdown",
   "metadata": {
    "id": "vlbLWF3GEqgG"
   },
   "source": [
    "## **Reading and manipulating data**\n",
    "\n",
    "[Uproot](https://uproot.readthedocs.io/en/latest/) is a Python package that reads and writes ROOT files and is only concerned with reading and writing (no analysis, no plotting, etc.). It interacts with NumPy, Awkward Array, and Pandas for computations, boost-histogram/hist for histogram manipulation and plotting, Vector for Lorentz vector functions and transformations, Coffea for scale-up, etc.\n",
    "\n",
    "Uproot is implemented using only Python and Python libraries."
   ]
  },
  {
   "cell_type": "markdown",
   "metadata": {
    "id": "Tx01wbpWFEV0"
   },
   "source": [
    "![](https://i.imgur.com/pt8y1c1.png)"
   ]
  },
  {
   "cell_type": "markdown",
   "metadata": {
    "id": "UqkSMtC0FX9C"
   },
   "source": [
    "To access a remote file via XRootD, we use a `root://...` URL:\n",
    "\n"
   ]
  },
  {
   "cell_type": "code",
   "execution_count": 1,
   "metadata": {
    "id": "ZYOGvuwOGWZQ",
    "tags": []
   },
   "outputs": [],
   "source": [
    "# file name\n",
    "fname = \"root://eospublic.cern.ch//eos/root-eos/benchmark/Run2012B_SingleMu.root\""
   ]
  },
  {
   "cell_type": "markdown",
   "metadata": {
    "id": "QV_vR_izGbNY"
   },
   "source": [
    "We can use `uproot.open()` to open a ROOT file. Instead, we will use the `coffea.nanoevents.NanoEventsFactory()` (which uses `uproot.open` internally) to read the ROOT File and create a `NanoEvents` object (with a `NanoAODSchema`). To limit the amount of data read, set `entry_stop` to the range you want:"
   ]
  },
  {
   "cell_type": "code",
   "execution_count": 2,
   "metadata": {},
   "outputs": [],
   "source": [
    "import warnings\n",
    "warnings.filterwarnings(\"ignore\", message=\"Missing cross-reference index \")"
   ]
  },
  {
   "cell_type": "code",
   "execution_count": 3,
   "metadata": {
    "tags": []
   },
   "outputs": [],
   "source": [
    "from coffea.nanoevents import NanoEventsFactory, NanoAODSchema\n",
    "# load events\n",
    "events = NanoEventsFactory.from_root(fname, schemaclass=NanoAODSchema, entry_stop=10).events()"
   ]
  },
  {
   "cell_type": "markdown",
   "metadata": {
    "id": "r-vG5_0aG_FH"
   },
   "source": [
    "Browsing through the nanoAOD event content is useful to understand each branch. We can list its content using the `fields` attribute:"
   ]
  },
  {
   "cell_type": "code",
   "execution_count": 4,
   "metadata": {
    "colab": {
     "base_uri": "https://localhost:8080/"
    },
    "id": "gZBY0gbkj6kb",
    "outputId": "72998616-7529-47e4-e9ad-34238bf8f873",
    "tags": []
   },
   "outputs": [
    {
     "data": {
      "text/plain": [
       "['HLT',\n",
       " 'MET',\n",
       " 'Electron',\n",
       " 'run',\n",
       " 'Photon',\n",
       " 'PV',\n",
       " 'Tau',\n",
       " 'Muon',\n",
       " 'Jet',\n",
       " 'luminosityBlock',\n",
       " 'event']"
      ]
     },
     "execution_count": 4,
     "metadata": {},
     "output_type": "execute_result"
    }
   ],
   "source": [
    "# events fields\n",
    "events.fields"
   ]
  },
  {
   "cell_type": "code",
   "execution_count": 5,
   "metadata": {
    "colab": {
     "base_uri": "https://localhost:8080/"
    },
    "id": "puYG3yt7FRiy",
    "outputId": "90c520f2-3a35-4f9c-bb5c-5974335bd576",
    "tags": []
   },
   "outputs": [
    {
     "data": {
      "text/plain": [
       "['pt', 'eta', 'phi', 'mass', 'puId', 'btag']"
      ]
     },
     "execution_count": 5,
     "metadata": {},
     "output_type": "execute_result"
    }
   ],
   "source": [
    "# jet fields\n",
    "events.Jet.fields"
   ]
  },
  {
   "cell_type": "code",
   "execution_count": 6,
   "metadata": {
    "colab": {
     "base_uri": "https://localhost:8080/"
    },
    "id": "fjqxk2WjHHHq",
    "outputId": "385a478a-aa15-4ebb-8700-17f8dc2a85c1",
    "tags": []
   },
   "outputs": [
    {
     "data": {
      "text/plain": [
       "<Array [[71.7, 27.8], [23.2, ... [], [31.9]] type='10 * var * float32[parameters...'>"
      ]
     },
     "execution_count": 6,
     "metadata": {},
     "output_type": "execute_result"
    }
   ],
   "source": [
    "# jet transverse momentum\n",
    "events.Jet.pt"
   ]
  },
  {
   "cell_type": "code",
   "execution_count": 7,
   "metadata": {
    "tags": []
   },
   "outputs": [
    {
     "name": "stdout",
     "output_type": "stream",
     "text": [
      "[71.7, 27.8]\n",
      "[23.2, 21.1, 17.4]\n",
      "[72.6, 51.3, 33.7]\n",
      "[18.9]\n",
      "[]\n",
      "[]\n",
      "[20.1, 17.8]\n",
      "[38.3]\n",
      "[]\n",
      "[31.9]\n"
     ]
    }
   ],
   "source": [
    "def print_ak_array(array):\n",
    "    for i in array:\n",
    "        print(i)\n",
    "        \n",
    "print_ak_array(events.Jet.pt)"
   ]
  },
  {
   "cell_type": "markdown",
   "metadata": {
    "id": "kuJADGSVIrei"
   },
   "source": [
    "Arrays like these are sometimes called \"jagged arrays\". A jagged array is an irregular array, in other words, an array of arrays of which the member arrays can be of different lengths.\n",
    "\n",
    "[Awkward](https://awkward-array.org/doc/main/index.html) is a library, part of the pythonic HEP ecosystem, used for manipulating these jagged arrays using NumPy-like idioms. Basically, it is a generalization of NumPy for irregular arrays.\n",
    "\n",
    "\n",
    "\n"
   ]
  },
  {
   "cell_type": "code",
   "execution_count": 8,
   "metadata": {
    "tags": []
   },
   "outputs": [],
   "source": [
    "import awkward as ak"
   ]
  },
  {
   "cell_type": "markdown",
   "metadata": {},
   "source": [
    "**operations:** Arrays are dynamically typed, but operations on them are compiled and fast"
   ]
  },
  {
   "cell_type": "code",
   "execution_count": 9,
   "metadata": {
    "colab": {
     "base_uri": "https://localhost:8080/"
    },
    "id": "WAHIxvrXOSNP",
    "outputId": "0ac69dea-ca01-48c6-8e0b-1356deada098",
    "tags": []
   },
   "outputs": [
    {
     "data": {
      "text/plain": [
       "<Array [[5.15e+03, 774], ... [], [1.02e+03]] type='10 * var * float32'>"
      ]
     },
     "execution_count": 9,
     "metadata": {},
     "output_type": "execute_result"
    }
   ],
   "source": [
    "# jet transverse momentum squared\n",
    "events.Jet.pt ** 2"
   ]
  },
  {
   "cell_type": "markdown",
   "metadata": {
    "id": "oybn4-5YORpn"
   },
   "source": [
    "**slicing:** Basic slices are a generalization of NumPy's, what NumPy would do if it had variable-length lists (Boolean and integer slices work too)"
   ]
  },
  {
   "cell_type": "code",
   "execution_count": 10,
   "metadata": {
    "id": "ynGoQAbeHx25",
    "tags": []
   },
   "outputs": [],
   "source": [
    "# jet transverse momentum\n",
    "jet_pt = events.Jet.pt"
   ]
  },
  {
   "cell_type": "code",
   "execution_count": 11,
   "metadata": {
    "colab": {
     "base_uri": "https://localhost:8080/"
    },
    "id": "z5S1NUu5KOJl",
    "outputId": "c1f79d06-f01a-44a4-dcd2-64146e16ebbc",
    "tags": []
   },
   "outputs": [
    {
     "data": {
      "text/plain": [
       "<Array [71.7, 27.8] type='2 * float32[parameters={\"__doc__\": \"Jet_pt[nJet]/F\"}]'>"
      ]
     },
     "execution_count": 11,
     "metadata": {},
     "output_type": "execute_result"
    }
   ],
   "source": [
    "# first event\n",
    "jet_pt[0]"
   ]
  },
  {
   "cell_type": "code",
   "execution_count": 12,
   "metadata": {
    "colab": {
     "base_uri": "https://localhost:8080/"
    },
    "id": "FWoMZoKlKOuQ",
    "outputId": "040c5777-a40f-47bc-8850-1c4b5f1c503d",
    "tags": []
   },
   "outputs": [
    {
     "data": {
      "text/plain": [
       "<Array [23.2, 21.1, 17.4] type='3 * float32[parameters={\"__doc__\": \"Jet_pt[nJet]...'>"
      ]
     },
     "execution_count": 12,
     "metadata": {},
     "output_type": "execute_result"
    }
   ],
   "source": [
    "# second event\n",
    "jet_pt[1]"
   ]
  },
  {
   "cell_type": "code",
   "execution_count": 13,
   "metadata": {
    "colab": {
     "base_uri": "https://localhost:8080/"
    },
    "id": "1ubJsHdoKS3w",
    "outputId": "fae3e554-6de4-435c-ca85-dc1eaf044e85",
    "tags": []
   },
   "outputs": [
    {
     "data": {
      "text/plain": [
       "<Array [71.7, 23.2] type='2 * float32[parameters={\"__doc__\": \"Jet_pt[nJet]/F\"}]'>"
      ]
     },
     "execution_count": 13,
     "metadata": {},
     "output_type": "execute_result"
    }
   ],
   "source": [
    "# first element of the first two events\n",
    "jet_pt[:2, 0]"
   ]
  },
  {
   "cell_type": "markdown",
   "metadata": {
    "id": "onGxBGhtK7Wj"
   },
   "source": [
    "Note that if, for example, an event has no elements, this type of slicing will fail"
   ]
  },
  {
   "cell_type": "code",
   "execution_count": 14,
   "metadata": {
    "colab": {
     "base_uri": "https://localhost:8080/",
     "height": 349
    },
    "id": "vMWKq_2JKbfq",
    "outputId": "78dec49a-2002-41ec-d151-0429e0deaee9",
    "tags": []
   },
   "outputs": [
    {
     "ename": "ValueError",
     "evalue": "in ListOffsetArray64 attempting to get 0, index out of range\n\n(https://github.com/scikit-hep/awkward-1.0/blob/1.10.3/src/cpu-kernels/awkward_NumpyArray_getitem_next_at.cpp#L21)",
     "output_type": "error",
     "traceback": [
      "\u001b[0;31m---------------------------------------------------------------------------\u001b[0m",
      "\u001b[0;31mValueError\u001b[0m                                Traceback (most recent call last)",
      "Cell \u001b[0;32mIn[14], line 2\u001b[0m\n\u001b[1;32m      1\u001b[0m \u001b[38;5;66;03m# first element of all events\u001b[39;00m\n\u001b[0;32m----> 2\u001b[0m \u001b[43mjet_pt\u001b[49m\u001b[43m[\u001b[49m\u001b[43m:\u001b[49m\u001b[43m,\u001b[49m\u001b[43m \u001b[49m\u001b[38;5;241;43m0\u001b[39;49m\u001b[43m]\u001b[49m\n",
      "File \u001b[0;32m/opt/conda/lib/python3.8/site-packages/awkward/highlevel.py:991\u001b[0m, in \u001b[0;36mArray.__getitem__\u001b[0;34m(self, where)\u001b[0m\n\u001b[1;32m    579\u001b[0m \u001b[38;5;250m\u001b[39m\u001b[38;5;124;03m\"\"\"\u001b[39;00m\n\u001b[1;32m    580\u001b[0m \u001b[38;5;124;03mArgs:\u001b[39;00m\n\u001b[1;32m    581\u001b[0m \u001b[38;5;124;03m    where (many types supported; see below): Index of positions to\u001b[39;00m\n\u001b[0;32m   (...)\u001b[0m\n\u001b[1;32m    988\u001b[0m \u001b[38;5;124;03mhave the same dimension as the array being indexed.\u001b[39;00m\n\u001b[1;32m    989\u001b[0m \u001b[38;5;124;03m\"\"\"\u001b[39;00m\n\u001b[1;32m    990\u001b[0m \u001b[38;5;28;01mif\u001b[39;00m \u001b[38;5;129;01mnot\u001b[39;00m \u001b[38;5;28mhasattr\u001b[39m(\u001b[38;5;28mself\u001b[39m, \u001b[38;5;124m\"\u001b[39m\u001b[38;5;124m_tracers\u001b[39m\u001b[38;5;124m\"\u001b[39m):\n\u001b[0;32m--> 991\u001b[0m     tmp \u001b[38;5;241m=\u001b[39m ak\u001b[38;5;241m.\u001b[39m_util\u001b[38;5;241m.\u001b[39mwrap(\u001b[38;5;28;43mself\u001b[39;49m\u001b[38;5;241;43m.\u001b[39;49m\u001b[43mlayout\u001b[49m\u001b[43m[\u001b[49m\u001b[43mwhere\u001b[49m\u001b[43m]\u001b[49m, \u001b[38;5;28mself\u001b[39m\u001b[38;5;241m.\u001b[39m_behavior)\n\u001b[1;32m    992\u001b[0m \u001b[38;5;28;01melse\u001b[39;00m:\n\u001b[1;32m    993\u001b[0m     tmp \u001b[38;5;241m=\u001b[39m ak\u001b[38;5;241m.\u001b[39m_connect\u001b[38;5;241m.\u001b[39m_jax\u001b[38;5;241m.\u001b[39mjax_utils\u001b[38;5;241m.\u001b[39m_jaxtracers_getitem(\u001b[38;5;28mself\u001b[39m, where)\n",
      "\u001b[0;31mValueError\u001b[0m: in ListOffsetArray64 attempting to get 0, index out of range\n\n(https://github.com/scikit-hep/awkward-1.0/blob/1.10.3/src/cpu-kernels/awkward_NumpyArray_getitem_next_at.cpp#L21)"
     ]
    }
   ],
   "source": [
    "# first element of all events\n",
    "jet_pt[:, 0]"
   ]
  },
  {
   "cell_type": "markdown",
   "metadata": {
    "id": "PJAO4LEiLaEL"
   },
   "source": [
    "In such cases, we can use the Awkward `pad_none()` function to increase the lengths of lists to a target length by adding `None` values, so that we can perform the slicing:"
   ]
  },
  {
   "cell_type": "code",
   "execution_count": 15,
   "metadata": {
    "id": "LIBWI-euKkGw",
    "tags": []
   },
   "outputs": [],
   "source": [
    "# pad None's\n",
    "pad_jet_pt = ak.pad_none(jet_pt, target=1)"
   ]
  },
  {
   "cell_type": "code",
   "execution_count": 16,
   "metadata": {
    "tags": []
   },
   "outputs": [
    {
     "name": "stdout",
     "output_type": "stream",
     "text": [
      "[71.7, 27.8]\n",
      "[23.2, 21.1, 17.4]\n",
      "[72.6, 51.3, 33.7]\n",
      "[18.9]\n",
      "[None]\n",
      "[None]\n",
      "[20.1, 17.8]\n",
      "[38.3]\n",
      "[None]\n",
      "[31.9]\n"
     ]
    }
   ],
   "source": [
    "print_ak_array(pad_jet_pt)"
   ]
  },
  {
   "cell_type": "code",
   "execution_count": 17,
   "metadata": {
    "colab": {
     "base_uri": "https://localhost:8080/"
    },
    "id": "d4n97mQ2MsCZ",
    "outputId": "3fb27dbf-18dd-440a-85fc-31350660c70e",
    "tags": []
   },
   "outputs": [
    {
     "name": "stdout",
     "output_type": "stream",
     "text": [
      "71.74247741699219\n",
      "23.159303665161133\n",
      "72.6034164428711\n",
      "18.851543426513672\n",
      "None\n",
      "None\n",
      "20.137300491333008\n",
      "38.28268051147461\n",
      "None\n",
      "31.946998596191406\n"
     ]
    }
   ],
   "source": [
    "# first element of all events\n",
    "print_ak_array(pad_jet_pt[:, 0])"
   ]
  },
  {
   "cell_type": "markdown",
   "metadata": {
    "id": "-gXdsApRNApS"
   },
   "source": [
    "**Application: selecting particles and events**\n",
    "\n",
    "**particle-level cut**: This jagged array of booleans selects all muons with at least 20 GeV in transverse momentum"
   ]
  },
  {
   "cell_type": "code",
   "execution_count": 18,
   "metadata": {
    "colab": {
     "base_uri": "https://localhost:8080/"
    },
    "id": "4MMHRuZgMt4A",
    "outputId": "34f2e9d4-d249-4672-ad49-a49b1efd13f7",
    "tags": []
   },
   "outputs": [
    {
     "name": "stdout",
     "output_type": "stream",
     "text": [
      "[False]\n",
      "[True]\n",
      "[True, False, False, False, False, False]\n",
      "[True]\n",
      "[True]\n",
      "[True]\n",
      "[True]\n",
      "[False]\n",
      "[True]\n",
      "[True]\n"
     ]
    }
   ],
   "source": [
    "particle_cut = events.Muon.pt > 20\n",
    "\n",
    "print_ak_array(particle_cut)"
   ]
  },
  {
   "cell_type": "code",
   "execution_count": 19,
   "metadata": {
    "colab": {
     "base_uri": "https://localhost:8080/"
    },
    "id": "KjPsp1SLNPPj",
    "outputId": "512971d6-f4e9-4210-871a-36481115f3b5",
    "tags": []
   },
   "outputs": [
    {
     "name": "stdout",
     "output_type": "stream",
     "text": [
      "[]\n",
      "[Muon]\n",
      "[Muon]\n",
      "[Muon]\n",
      "[Muon]\n",
      "[Muon]\n",
      "[Muon]\n",
      "[]\n",
      "[Muon]\n",
      "[Muon]\n"
     ]
    }
   ],
   "source": [
    "muons = events.Muon[particle_cut]\n",
    "\n",
    "print_ak_array(muons)"
   ]
  },
  {
   "cell_type": "markdown",
   "metadata": {
    "id": "GU4ELyjwNtDJ"
   },
   "source": [
    "**event-level cut**: This non-jagged array of booleans (made with `ak.any`) selects all events that have a muon with at least 20 GeV in transverse momentum:"
   ]
  },
  {
   "cell_type": "code",
   "execution_count": 20,
   "metadata": {
    "colab": {
     "base_uri": "https://localhost:8080/"
    },
    "id": "rCFuSwm8Ncxf",
    "outputId": "4662349d-d2fa-47d9-befb-d9d4cff9e166",
    "tags": []
   },
   "outputs": [
    {
     "name": "stdout",
     "output_type": "stream",
     "text": [
      "False\n",
      "True\n",
      "True\n",
      "True\n",
      "True\n",
      "True\n",
      "True\n",
      "False\n",
      "True\n",
      "True\n"
     ]
    }
   ],
   "source": [
    "event_cut  = ak.any(events.Muon.pt > 20, axis=1)\n",
    "\n",
    "print_ak_array(event_cut)"
   ]
  },
  {
   "cell_type": "code",
   "execution_count": 21,
   "metadata": {
    "colab": {
     "base_uri": "https://localhost:8080/"
    },
    "id": "N_Hewq1RN6PN",
    "outputId": "c9775000-5739-4088-f999-b2c5d2089ade",
    "tags": []
   },
   "outputs": [
    {
     "name": "stdout",
     "output_type": "stream",
     "text": [
      "[Muon]\n",
      "[Muon, Muon, Muon, Muon, Muon, Muon]\n",
      "[Muon]\n",
      "[Muon]\n",
      "[Muon]\n",
      "[Muon]\n",
      "[Muon]\n",
      "[Muon]\n"
     ]
    }
   ],
   "source": [
    "muons = events.Muon[event_cut]\n",
    "\n",
    "print_ak_array(muons)"
   ]
  },
  {
   "cell_type": "markdown",
   "metadata": {
    "id": "jmFJU2h9Y17v"
   },
   "source": [
    "## **Boost-histogram and Hist**\n",
    "\n",
    "High-energy physicists usually want to fill histograms with more data than can fit in memory, which means setting bin intervals on an empty container and filling it in batches (sequentially or in parallel). Boost-histogram is a library designed for that purpose. \n",
    "\n",
    "A more user-friendly layer is provided by a library called [Hist](https://hist.readthedocs.io/en/latest/), which is a powerful histogramming tool within the python HEP ecosystem for analysis based on Boost-histogram. It provides:\n",
    "\n",
    "* N-dimensional histograms\n",
    "* Discrete and dense axis: Regular, Boolean, Variable, Integer, IntCategory and StrCategory.\n",
    "* Useful methods to transform and index histograms\n",
    "* Plotting via matplotlib or mplhep: stacked and normalized plots, ratio plots, 2D plots, etc."
   ]
  },
  {
   "cell_type": "markdown",
   "metadata": {},
   "source": [
    "**1-dimensional Histogram**"
   ]
  },
  {
   "cell_type": "code",
   "execution_count": 22,
   "metadata": {
    "colab": {
     "base_uri": "https://localhost:8080/",
     "height": 150
    },
    "id": "YqBFS7vFZ9Sj",
    "outputId": "370e498b-78be-4056-9c9c-8e3b8a7de1e7",
    "tags": []
   },
   "outputs": [
    {
     "data": {
      "text/html": [
       "<html>\n",
       "<div style=\"display:flex; align-items:center;\">\n",
       "<div style=\"width:290px;\">\n",
       "<svg xmlns=\"http://www.w3.org/2000/svg\" viewBox=\"-10 -105 270 120\">\n",
       "<line x1=\"-5\" y1=\"0\" x2=\"255\" y2=\"0\" style=\"fill:none;stroke-width:2;stroke:currentColor\"/>\n",
       "<text text-anchor=\"middle\" x=\"0\" y=\"15\" style=\"fill:currentColor;\">\n",
       "20\n",
       "</text>\n",
       "<text text-anchor=\"middle\" x=\"250\" y=\"15\" style=\"fill:currentColor;\">\n",
       "1e+03\n",
       "</text>\n",
       "<text text-anchor=\"middle\" x=\"125.0\" y=\"15\" style=\"fill:currentColor;\">\n",
       "Jet $p_T$ [GeV]\n",
       "</text>\n",
       "<polyline points=\"  0,0   0,-0 6.25,-0 6.25,-0 12.5,-0 12.5,-0 18.75,-0 18.75,-0  25,-0  25,-0 31.25,-0 31.25,-0 37.5,-0 37.5,-0 43.75,-0 43.75,-0  50,-0  50,-0 56.25,-0 56.25,-0 62.5,-0 62.5,-0 68.75,-0 68.75,-0  75,-0  75,-0 81.25,-0 81.25,-0 87.5,-0 87.5,-0 93.75,-0 93.75,-0 100,-0 100,-0 106.25,-0 106.25,-0 112.5,-0 112.5,-0 118.75,-0 118.75,-0 125,-0 125,-0 131.25,-0 131.25,-0 137.5,-0 137.5,-0 143.75,-0 143.75,-0 150,-0 150,-0 156.25,-0 156.25,-0 162.5,-0 162.5,-0 168.75,-0 168.75,-0 175,-0 175,-0 181.25,-0 181.25,-0 187.5,-0 187.5,-0 193.75,-0 193.75,-0 200,-0 200,-0 206.25,-0 206.25,-0 212.5,-0 212.5,-0 218.75,-0 218.75,-0 225,-0 225,-0 231.25,-0 231.25,-0 237.5,-0 237.5,-0 243.75,-0 243.75,-0 250,-0 250,0\" style=\"fill:none; stroke:currentColor;\"/>\n",
       "</svg>\n",
       "</div>\n",
       "<div style=\"flex=grow:1;\">\n",
       "Regular(40, 20, 1000, name='jet_pt', label='Jet $p_T$ [GeV]')<br/>\n",
       "<hr style=\"margin-top:.2em; margin-bottom:.2em;\"/>\n",
       "Double() Σ=0.0\n",
       "\n",
       "</div>\n",
       "</div>\n",
       "</html>"
      ],
      "text/plain": [
       "Hist(Regular(40, 20, 1000, name='jet_pt', label='Jet $p_T$ [GeV]'), storage=Double())"
      ]
     },
     "execution_count": 22,
     "metadata": {},
     "output_type": "execute_result"
    }
   ],
   "source": [
    "import hist\n",
    "\n",
    "# definition of a regular axis\n",
    "jet_pt_axis = hist.axis.Regular(\n",
    "    bins=40, \n",
    "    start=20, \n",
    "    stop=1000, \n",
    "    name=\"jet_pt\", \n",
    "    label=\"Jet $p_T$ [GeV]\"\n",
    ")\n",
    "\n",
    "# 1D histogram\n",
    "jet_pt_histogram = hist.Hist(jet_pt_axis)\n",
    "\n",
    "jet_pt_histogram"
   ]
  },
  {
   "cell_type": "code",
   "execution_count": 23,
   "metadata": {
    "tags": []
   },
   "outputs": [],
   "source": [
    "events = NanoEventsFactory.from_root(fname, schemaclass=NanoAODSchema, entry_stop=10_000).events()\n",
    "\n",
    "jet_pt = events.Jet.pt[events.Jet.pt > 20]"
   ]
  },
  {
   "cell_type": "markdown",
   "metadata": {
    "id": "Lja3QtPrbtku"
   },
   "source": [
    "Since this is a jagged array, it can't be directly histogrammed. Histograms take a set of numbers as inputs, but this array contains lists.\n",
    "\n",
    "You can use `ak.flatten()` to flatten one level of list or `ak.ravel()` to flatten all levels"
   ]
  },
  {
   "cell_type": "code",
   "execution_count": 24,
   "metadata": {
    "id": "H2WQKcgububf",
    "tags": []
   },
   "outputs": [
    {
     "data": {
      "text/html": [
       "<html>\n",
       "<div style=\"display:flex; align-items:center;\">\n",
       "<div style=\"width:290px;\">\n",
       "<svg xmlns=\"http://www.w3.org/2000/svg\" viewBox=\"-10 -105 270 120\">\n",
       "<line x1=\"-5\" y1=\"0\" x2=\"255\" y2=\"0\" style=\"fill:none;stroke-width:2;stroke:currentColor\"/>\n",
       "<text text-anchor=\"middle\" x=\"0\" y=\"15\" style=\"fill:currentColor;\">\n",
       "20\n",
       "</text>\n",
       "<text text-anchor=\"middle\" x=\"250\" y=\"15\" style=\"fill:currentColor;\">\n",
       "1e+03\n",
       "</text>\n",
       "<text text-anchor=\"middle\" x=\"125.0\" y=\"15\" style=\"fill:currentColor;\">\n",
       "Jet $p_T$ [GeV]\n",
       "</text>\n",
       "<polyline points=\"  0,0   0,-100 6.25,-100 6.25,-27.2 12.5,-27.2 12.5,-11.3 18.75,-11.3 18.75,-4.8  25,-4.8  25,-2.66 31.25,-2.66 31.25,-1.51 37.5,-1.51 37.5,-0.753 43.75,-0.753 43.75,-0.516  50,-0.516  50,-0.251 56.25,-0.251 56.25,-0.195 62.5,-0.195 62.5,-0.0976 68.75,-0.0976 68.75,-0.0279  75,-0.0279  75,-0.0558 81.25,-0.0558 81.25,-0.0139 87.5,-0.0139 87.5,-0.0279 93.75,-0.0279 93.75,-0.0139 100,-0.0139 100,-0.0139 106.25,-0.0139 106.25,-0 112.5,-0 112.5,-0.0139 118.75,-0.0139 118.75,-0 125,-0 125,-0.0139 131.25,-0.0139 131.25,-0 137.5,-0 137.5,-0.0139 143.75,-0.0139 143.75,-0 150,-0 150,-0 156.25,-0 156.25,-0.0139 162.5,-0.0139 162.5,-0 168.75,-0 168.75,-0 175,-0 175,-0 181.25,-0 181.25,-0 187.5,-0 187.5,-0 193.75,-0 193.75,-0 200,-0 200,-0 206.25,-0 206.25,-0 212.5,-0 212.5,-0 218.75,-0 218.75,-0 225,-0 225,-0 231.25,-0 231.25,-0 237.5,-0 237.5,-0 243.75,-0 243.75,-0 250,-0 250,0\" style=\"fill:none; stroke:currentColor;\"/>\n",
       "</svg>\n",
       "</div>\n",
       "<div style=\"flex=grow:1;\">\n",
       "Regular(40, 20, 1000, name='jet_pt', label='Jet $p_T$ [GeV]')<br/>\n",
       "<hr style=\"margin-top:.2em; margin-bottom:.2em;\"/>\n",
       "Double() Σ=10723.0\n",
       "\n",
       "</div>\n",
       "</div>\n",
       "</html>"
      ],
      "text/plain": [
       "Hist(Regular(40, 20, 1000, name='jet_pt', label='Jet $p_T$ [GeV]'), storage=Double()) # Sum: 10723.0"
      ]
     },
     "execution_count": 24,
     "metadata": {},
     "output_type": "execute_result"
    }
   ],
   "source": [
    "# filling the histogram\n",
    "jet_pt_histogram.fill(jet_pt=ak.flatten(jet_pt))\n",
    "\n",
    "jet_pt_histogram"
   ]
  },
  {
   "cell_type": "markdown",
   "metadata": {},
   "source": [
    "we can plot the histogram using the `plot1d()` method"
   ]
  },
  {
   "cell_type": "code",
   "execution_count": 25,
   "metadata": {
    "tags": []
   },
   "outputs": [
    {
     "data": {
      "image/png": "[encoded data removed]",
      "text/plain": [
       "<Figure size 640x480 with 1 Axes>"
      ]
     },
     "metadata": {},
     "output_type": "display_data"
    }
   ],
   "source": [
    "import matplotlib.pyplot as plt\n",
    "\n",
    "jet_pt_histogram.plot1d()\n",
    "plt.ylabel(\"Events\");"
   ]
  },
  {
   "cell_type": "markdown",
   "metadata": {},
   "source": [
    "**N-dimensional Histogram**"
   ]
  },
  {
   "cell_type": "code",
   "execution_count": 26,
   "metadata": {
    "tags": []
   },
   "outputs": [
    {
     "data": {
      "text/plain": [
       "Hist(\n",
       "  Variable([20, 60, 90, 120, 150, 180, 210, 240, 300, 500], name='jet_pt', label='Jet $p_T$ [GeV]'),\n",
       "  Regular(50, -2.4, 2.4, name='jet_eta', label='jet $\\\\eta$'),\n",
       "  Regular(50, -3.14159, 3.14159, name='jet_phi', label='Jet $\\\\phi$'),\n",
       "  storage=Double())"
      ]
     },
     "execution_count": 26,
     "metadata": {},
     "output_type": "execute_result"
    }
   ],
   "source": [
    "import numpy as np\n",
    "\n",
    "# jet axes\n",
    "jet_pt_axis = hist.axis.Variable(\n",
    "    edges=[20, 60, 90, 120, 150, 180, 210, 240, 300, 500],\n",
    "    name=\"jet_pt\",\n",
    "    label=\"Jet $p_T$ [GeV]\"\n",
    ")\n",
    "jet_eta_axis = hist.axis.Regular(\n",
    "    bins=50,\n",
    "    start=-2.4,\n",
    "    stop=2.4,\n",
    "    name=\"jet_eta\",\n",
    "    label=\"jet $\\eta$\"\n",
    ")\n",
    "jet_phi_axis = hist.axis.Regular(\n",
    "    bins=50,\n",
    "    start=-np.pi,\n",
    "    stop=np.pi,\n",
    "    name=\"jet_phi\",\n",
    "    label=\"Jet $\\phi$\"\n",
    ")\n",
    "\n",
    "# 3D histogram\n",
    "jet_histogram = hist.Hist(\n",
    "    jet_pt_axis,\n",
    "    jet_eta_axis,\n",
    "    jet_phi_axis,\n",
    ")\n",
    "jet_histogram"
   ]
  },
  {
   "cell_type": "code",
   "execution_count": 27,
   "metadata": {
    "tags": []
   },
   "outputs": [
    {
     "data": {
      "text/plain": [
       "Hist(\n",
       "  Variable([20, 60, 90, 120, 150, 180, 210, 240, 300, 500], name='jet_pt', label='Jet $p_T$ [GeV]'),\n",
       "  Regular(50, -2.4, 2.4, name='jet_eta', label='jet $\\\\eta$'),\n",
       "  Regular(50, -3.14159, 3.14159, name='jet_phi', label='Jet $\\\\phi$'),\n",
       "  storage=Double()) # Sum: 8652.0 (16840.0 with flow)"
      ]
     },
     "execution_count": 27,
     "metadata": {},
     "output_type": "execute_result"
    }
   ],
   "source": [
    "# filling the histogram\n",
    "jet_histogram.fill(\n",
    "    jet_pt=ak.flatten(events.Jet.pt),\n",
    "    jet_eta=ak.flatten(events.Jet.eta),\n",
    "    jet_phi=ak.flatten(events.Jet.phi)\n",
    ")\n",
    "jet_histogram"
   ]
  },
  {
   "cell_type": "markdown",
   "metadata": {
    "tags": []
   },
   "source": [
    "We can inspect an individual axis, using the `project()` method first"
   ]
  },
  {
   "cell_type": "code",
   "execution_count": 28,
   "metadata": {
    "tags": []
   },
   "outputs": [
    {
     "data": {
      "image/png": "[encoded data removed]",
      "text/plain": [
       "<Figure size 640x480 with 1 Axes>"
      ]
     },
     "metadata": {},
     "output_type": "display_data"
    }
   ],
   "source": [
    "# project into an axis\n",
    "jet_histogram.project(\"jet_eta\").plot1d()\n",
    "plt.ylabel(\"Events\");"
   ]
  },
  {
   "cell_type": "markdown",
   "metadata": {},
   "source": [
    "We could alse visualize 2D histograms using the `plot2d()` method:"
   ]
  },
  {
   "cell_type": "code",
   "execution_count": 29,
   "metadata": {
    "tags": []
   },
   "outputs": [
    {
     "data": {
      "image/png": "[encoded data removed]",
      "text/plain": [
       "<Figure size 640x480 with 2 Axes>"
      ]
     },
     "metadata": {},
     "output_type": "display_data"
    }
   ],
   "source": [
    "# select all entries for the first two axis and plot 2D histogram\n",
    "jet_histogram[:, :, sum].plot2d();"
   ]
  },
  {
   "cell_type": "code",
   "execution_count": 30,
   "metadata": {
    "tags": []
   },
   "outputs": [
    {
     "data": {
      "image/png": "[encoded data removed]",
      "text/plain": [
       "<Figure size 640x480 with 2 Axes>"
      ]
     },
     "metadata": {},
     "output_type": "display_data"
    }
   ],
   "source": [
    "# project on two axisand plot 2D histogram\n",
    "jet_histogram.project(\"jet_pt\", \"jet_eta\").plot2d();"
   ]
  },
  {
   "cell_type": "markdown",
   "metadata": {},
   "source": [
    "see more about histogram manipulation and transformations [here](https://github.com/CoffeaTeam/coffea/discussions/705)"
   ]
  },
  {
   "cell_type": "markdown",
   "metadata": {
    "id": "UJzzoQFJSO_z"
   },
   "source": [
    "**Quiz 1 (particle-level cut):** Select electrons that satisfy the following conditions\n",
    "\n",
    "* $p_T \\geq 30$ GeV\n",
    "* $|\\eta| < 2.5$\n",
    "* electrons with a loose PF Relative Isolation working point (`pfRelIso03_all` < 0.25)"
   ]
  },
  {
   "cell_type": "code",
   "execution_count": 31,
   "metadata": {
    "id": "TwUmAUYNUzrp"
   },
   "outputs": [],
   "source": [
    "good_electrons = (\n",
    "    (events.Electron.pt >= 30)\n",
    "    & (np.abs(events.Electron.eta) < 2.5)\n",
    "    & (events.Electron.pfRelIso03_all < 0.25)\n",
    ")\n",
    "\n",
    "electrons = events.Electron[good_electrons]"
   ]
  },
  {
   "cell_type": "markdown",
   "metadata": {
    "id": "vPBRHdg3RWH9"
   },
   "source": [
    "**Quiz 2: (event-level cut)** Select transverse missing energy (MET) for events in which the condition $p_T(j) \\geq 30$ GeV is met for at least two jets\n",
    "\n",
    "hint: use the `ak.sum()` function"
   ]
  },
  {
   "cell_type": "code",
   "execution_count": 32,
   "metadata": {
    "colab": {
     "base_uri": "https://localhost:8080/"
    },
    "id": "MWPbMh_mR0cj",
    "outputId": "eb71078c-ff09-450e-9e4a-faee6a4cb27a",
    "tags": []
   },
   "outputs": [],
   "source": [
    "# we want jets with a pt of at least 30\n",
    "jet_pt_min = events.Jet.pt > 30\n",
    "\n",
    "# We want MET where the above condition is met for at least two jets. \n",
    "# The above is a list of Boolean sublists generated from the jet sublists (True if condition met, False if not). \n",
    "# If we sum each sublist, we get the amount of jets matching the condition (since True = 1).\n",
    "met = events.MET[(ak.sum(jet_pt_min, axis=1) >= 2)]"
   ]
  },
  {
   "cell_type": "markdown",
   "metadata": {
    "id": "07NSZN0OQFoi"
   },
   "source": [
    "**Quiz 3:** Using the full dataset:\n",
    "\n",
    "* Select muons that satisfy the following conditions\n",
    "\n",
    "  * $p_T \\geq 35$ GeV\n",
    "  * $|\\eta| < 2.4$\n",
    "  * muons with a tight cut-based identification working point (`tightId`)\n",
    "  * muons with a tight PF Relative Isolation working point (pfRelIso04_all $\\leq 0.15$)\n",
    "\n",
    "* Select the leading and subleading muons $\\mu_1$ and $\\mu_2$ (use the `ak.firsts()` function)\n",
    "* Compute the invariant mass $m(\\mu_1, \\mu_2)$ using the following formula: $$m^2(\\mu_1, \\mu_2) = 2 p_T(\\mu_1)p_T(\\mu_2)f(\\eta, \\phi)$$\n",
    "\n",
    "  where $$f(\\eta, \\phi) = \\cosh[\\eta(\\mu_1) - \\eta(\\mu_2)] - \\cos[\\phi(\\mu_1) - \\phi(\\mu_2)]$$\n",
    "* Select events such that $60 < m < 120$ (GeV)\n",
    "* Create and plot an histogram of the invariant mass (hint: use the `ak.fill_none()` if needed)"
   ]
  },
  {
   "cell_type": "code",
   "execution_count": 33,
   "metadata": {
    "tags": []
   },
   "outputs": [
    {
     "data": {
      "image/png": "[encoded data removed]",
      "text/plain": [
       "<Figure size 640x480 with 1 Axes>"
      ]
     },
     "metadata": {},
     "output_type": "display_data"
    }
   ],
   "source": [
    "# load events\n",
    "events = NanoEventsFactory.from_root(fname, schemaclass=NanoAODSchema, entry_stop=100_000).events()\n",
    "\n",
    "# select good muons\n",
    "good_muons = (\n",
    "    (events.Muon.pt >= 35)\n",
    "    & (np.abs(events.Muon.eta) < 2.4)\n",
    "    & (events.Muon.tightId)\n",
    "    & (events.Muon.pfRelIso04_all < 0.15)\n",
    ")\n",
    "muons = events.Muon[good_muons]\n",
    "\n",
    "# select leading and subleading muons\n",
    "mu1 = ak.firsts(muons)\n",
    "mu2 = ak.firsts(ak.pad_none(muons, 2)[:, 1:])\n",
    "\n",
    "# compute invariant mass from the system composed of the leading and subleading muons\n",
    "dimuon_mass = np.sqrt(\n",
    "    2 * mu1.pt * mu2.pt * (np.cosh(mu1.eta - mu2.eta) - np.cos(mu1.phi - mu2.phi))\n",
    ")\n",
    "\n",
    "# select events in a mass window of 30 GeV around the mass of the Z boson (~91 GeV)\n",
    "mass_window_cut = (dimuon_mass > 60) & (dimuon_mass < 120)\n",
    "dimuon_mass = dimuon_mass[mass_window_cut]\n",
    "\n",
    "# define and fill the dimuon mass histogram\n",
    "dimuon_mass_axis = hist.axis.Regular(\n",
    "    bins=40, start=60, stop=120, name=\"dimuon_mass\", label=\"$m(\\mu, \\mu)$ [GeV]\"\n",
    ")\n",
    "dimuon_mass_histogram = hist.Hist(dimuon_mass_axis)\n",
    "dimuon_mass_histogram.fill(dimuon_mass=ak.fill_none(dimuon_mass, 0)).plot1d()\n",
    "plt.ylabel(\"Events\");"
   ]
  },
  {
   "cell_type": "code",
   "execution_count": null,
   "metadata": {},
   "outputs": [],
   "source": []
  }
 ],
 "metadata": {
  "colab": {
   "provenance": []
  },
  "kernelspec": {
   "display_name": "Python 3 (ipykernel)",
   "language": "python",
   "name": "python3"
  },
  "language_info": {
   "codemirror_mode": {
    "name": "ipython",
    "version": 3
   },
   "file_extension": ".py",
   "mimetype": "text/x-python",
   "name": "python",
   "nbconvert_exporter": "python",
   "pygments_lexer": "ipython3",
   "version": "3.8.16"
  }
 },
 "nbformat": 4,
 "nbformat_minor": 4
}
