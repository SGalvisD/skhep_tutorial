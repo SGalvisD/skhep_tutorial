{
 "cells": [
  {
   "cell_type": "markdown",
   "metadata": {
    "id": "bUPo8GtaAwjy"
   },
   "source": [
    "## **Introduction**\n",
    "\n",
    "We will study basic tools and wrappers for enabling not-too-alien syntax when running columnar collider HEP analysis. This tools are part of a pythonic HEP ecosystem. "
   ]
  },
  {
   "cell_type": "markdown",
   "metadata": {
    "id": "A57NPZLa8Zjh"
   },
   "source": [
    "![](https://i.imgur.com/3a11SeT.png)"
   ]
  },
  {
   "cell_type": "markdown",
   "metadata": {},
   "source": [
    "To make things easier to find, they're cataloged under a common name at [scikit-hep.org](https://scikit-hep.org/)"
   ]
  },
  {
   "cell_type": "markdown",
   "metadata": {
    "id": "uzQV_LLS_lrI"
   },
   "source": [
    "## **ROOT file structure and terminology**\n",
    "\n",
    "A ROOT file is like a little filesystem containing nested directories. Any class instance (like `ROOT TObject`) can be stored in a directory.\n",
    "\n",
    "One of these classes, TTree, is a gateway to large datasets. A TTree is roughly like a Pandas DataFrame in that it represents a table of data. The columns are called TBranches, which can be nested (unlike Pandas), and the data can have any C++ type (unlike Pandas, which can store any Python type).\n",
    "\n",
    "A TTree is often too large to fit in memory, and sometimes (rarely) even a single TBranch is too large to fit in memory. Each TBranch is therefore broken down into TBaskets, which are “batches” of data. TBaskets are the smallest unit that can be read from a TTree: if you want to read the first entry, you have to read the first TBasket.\n",
    "\n",
    "As a data analyst, you’ll likely be concerned with TTrees and TBranches first-hand, but only TBaskets when efficiency issues come up"
   ]
  },
  {
   "cell_type": "markdown",
   "metadata": {
    "id": "b5fA8LZ4Af2N"
   },
   "source": [
    "![](https://i.imgur.com/gkN0q9f.png)"
   ]
  },
  {
   "cell_type": "markdown",
   "metadata": {
    "id": "0yYQAf2FOnQ2"
   },
   "source": [
    "CMS data has this structure and can be found in different formats. One of these formats is the so-called **NanoAOD** format. A NanoAOD file contains a main TTree named **Events**. A dump of the documentation of content for different releases is available [here](https://cms-nanoaod-integration.web.cern.ch/autoDoc/)"
   ]
  },
  {
   "cell_type": "markdown",
   "metadata": {
    "id": "vlbLWF3GEqgG"
   },
   "source": [
    "## **Reading and manipulating data**\n",
    "\n",
    "[Uproot](https://uproot.readthedocs.io/en/latest/) is a Python package that reads and writes ROOT files and is only concerned with reading and writing (no analysis, no plotting, etc.). It interacts with NumPy, Awkward Array, and Pandas for computations, boost-histogram/hist for histogram manipulation and plotting, Vector for Lorentz vector functions and transformations, Coffea for scale-up, etc.\n",
    "\n",
    "Uproot is implemented using only Python and Python libraries."
   ]
  },
  {
   "cell_type": "markdown",
   "metadata": {
    "id": "Tx01wbpWFEV0"
   },
   "source": [
    "![](https://i.imgur.com/pt8y1c1.png)"
   ]
  },
  {
   "cell_type": "markdown",
   "metadata": {
    "id": "UqkSMtC0FX9C"
   },
   "source": [
    "To access a remote file via XRootD, we use a `root://...` URL:\n",
    "\n"
   ]
  },
  {
   "cell_type": "code",
   "execution_count": null,
   "metadata": {
    "id": "ZYOGvuwOGWZQ",
    "tags": []
   },
   "outputs": [],
   "source": [
    "# file name\n",
    "fname = \"root://eospublic.cern.ch//eos/root-eos/benchmark/Run2012B_SingleMu.root\""
   ]
  },
  {
   "cell_type": "markdown",
   "metadata": {
    "id": "QV_vR_izGbNY"
   },
   "source": [
    "We can use `uproot.open()` to open a ROOT file. Instead, we will use the `coffea.nanoevents.NanoEventsFactory()` (which uses `uproot.open` internally) to read the ROOT File and create a `NanoEvents` object (with a `NanoAODSchema`). To limit the amount of data read, set `entry_stop` to the range you want:"
   ]
  },
  {
   "cell_type": "code",
   "execution_count": null,
   "metadata": {
    "tags": []
   },
   "outputs": [],
   "source": [
    "from coffea.nanoevents import NanoEventsFactory, NanoAODSchema\n",
    "\n",
    "# load events\n",
    "events = NanoEventsFactory.from_root(fname, schemaclass=NanoAODSchema, entry_stop=10).events()"
   ]
  },
  {
   "cell_type": "markdown",
   "metadata": {
    "id": "r-vG5_0aG_FH"
   },
   "source": [
    "Browsing through the nanoAOD event content is useful to understand each branch. We can list its content using the `fields` attribute:"
   ]
  },
  {
   "cell_type": "code",
   "execution_count": null,
   "metadata": {
    "colab": {
     "base_uri": "https://localhost:8080/"
    },
    "id": "gZBY0gbkj6kb",
    "outputId": "72998616-7529-47e4-e9ad-34238bf8f873",
    "tags": []
   },
   "outputs": [],
   "source": [
    "# events fields\n",
    "events.fields"
   ]
  },
  {
   "cell_type": "code",
   "execution_count": null,
   "metadata": {
    "colab": {
     "base_uri": "https://localhost:8080/"
    },
    "id": "puYG3yt7FRiy",
    "outputId": "90c520f2-3a35-4f9c-bb5c-5974335bd576",
    "tags": []
   },
   "outputs": [],
   "source": [
    "# jet fields\n",
    "events.Jet.fields"
   ]
  },
  {
   "cell_type": "code",
   "execution_count": null,
   "metadata": {
    "colab": {
     "base_uri": "https://localhost:8080/"
    },
    "id": "fjqxk2WjHHHq",
    "outputId": "385a478a-aa15-4ebb-8700-17f8dc2a85c1",
    "tags": []
   },
   "outputs": [],
   "source": [
    "# jet transverse momentum\n",
    "events.Jet.pt"
   ]
  },
  {
   "cell_type": "markdown",
   "metadata": {
    "id": "kuJADGSVIrei"
   },
   "source": [
    "Arrays like these are sometimes called \"jagged arrays\". A jagged array is an irregular array, in other words, an array of arrays of which the member arrays can be of different lengths.\n",
    "\n",
    "[Awkward](https://awkward-array.org/doc/main/index.html) is a library, part of the pythonic HEP ecosystem, used for manipulating these jagged arrays using NumPy-like idioms. Basically, it is a generalization of NumPy for irregular arrays.\n",
    "\n",
    "\n",
    "\n"
   ]
  },
  {
   "cell_type": "markdown",
   "metadata": {},
   "source": [
    "**operations:** Arrays are dynamically typed, but operations on them are compiled and fast"
   ]
  },
  {
   "cell_type": "code",
   "execution_count": null,
   "metadata": {
    "colab": {
     "base_uri": "https://localhost:8080/"
    },
    "id": "WAHIxvrXOSNP",
    "outputId": "0ac69dea-ca01-48c6-8e0b-1356deada098",
    "tags": []
   },
   "outputs": [],
   "source": [
    "# jet transverse momentum squared"
   ]
  },
  {
   "cell_type": "markdown",
   "metadata": {
    "id": "oybn4-5YORpn"
   },
   "source": [
    "**slicing:** Basic slices are a generalization of NumPy's, what NumPy would do if it had variable-length lists (Boolean and integer slices work too)"
   ]
  },
  {
   "cell_type": "code",
   "execution_count": null,
   "metadata": {
    "id": "ynGoQAbeHx25",
    "tags": []
   },
   "outputs": [],
   "source": [
    "# jet transverse momentum\n",
    "jet_pt = events.Jet.pt"
   ]
  },
  {
   "cell_type": "code",
   "execution_count": null,
   "metadata": {
    "colab": {
     "base_uri": "https://localhost:8080/"
    },
    "id": "z5S1NUu5KOJl",
    "outputId": "c1f79d06-f01a-44a4-dcd2-64146e16ebbc",
    "tags": []
   },
   "outputs": [],
   "source": [
    "# first event\n",
    "jet_pt[0]"
   ]
  },
  {
   "cell_type": "code",
   "execution_count": null,
   "metadata": {
    "colab": {
     "base_uri": "https://localhost:8080/"
    },
    "id": "FWoMZoKlKOuQ",
    "outputId": "040c5777-a40f-47bc-8850-1c4b5f1c503d",
    "tags": []
   },
   "outputs": [],
   "source": [
    "# second event\n",
    "jet_pt[1]"
   ]
  },
  {
   "cell_type": "code",
   "execution_count": null,
   "metadata": {
    "colab": {
     "base_uri": "https://localhost:8080/"
    },
    "id": "1ubJsHdoKS3w",
    "outputId": "fae3e554-6de4-435c-ca85-dc1eaf044e85",
    "tags": []
   },
   "outputs": [],
   "source": [
    "# first element of the first two events\n",
    "jet_pt[:2, 0]"
   ]
  },
  {
   "cell_type": "markdown",
   "metadata": {
    "id": "onGxBGhtK7Wj"
   },
   "source": [
    "Note that if, for example, an event has no elements, this type of slicing will fail"
   ]
  },
  {
   "cell_type": "code",
   "execution_count": null,
   "metadata": {
    "colab": {
     "base_uri": "https://localhost:8080/",
     "height": 349
    },
    "id": "vMWKq_2JKbfq",
    "outputId": "78dec49a-2002-41ec-d151-0429e0deaee9",
    "tags": []
   },
   "outputs": [],
   "source": [
    "# first element of all events\n",
    "jet_pt[:, 0]"
   ]
  },
  {
   "cell_type": "markdown",
   "metadata": {
    "id": "PJAO4LEiLaEL"
   },
   "source": [
    "In such cases, we can use the Awkward `pad_none()` function to increase the lengths of lists to a target length by adding `None` values, so that we can perform the slicing:"
   ]
  },
  {
   "cell_type": "code",
   "execution_count": null,
   "metadata": {
    "id": "LIBWI-euKkGw",
    "tags": []
   },
   "outputs": [],
   "source": [
    "# pad None's"
   ]
  },
  {
   "cell_type": "code",
   "execution_count": null,
   "metadata": {
    "colab": {
     "base_uri": "https://localhost:8080/"
    },
    "id": "d4n97mQ2MsCZ",
    "outputId": "3fb27dbf-18dd-440a-85fc-31350660c70e",
    "tags": []
   },
   "outputs": [],
   "source": [
    "# first element of all events"
   ]
  },
  {
   "cell_type": "markdown",
   "metadata": {
    "id": "-gXdsApRNApS"
   },
   "source": [
    "**Application: selecting particles and events**\n",
    "\n",
    "**particle-level cut**: This jagged array of booleans selects all muons with at least 20 GeV in transverse momentum"
   ]
  },
  {
   "cell_type": "code",
   "execution_count": null,
   "metadata": {
    "colab": {
     "base_uri": "https://localhost:8080/"
    },
    "id": "4MMHRuZgMt4A",
    "outputId": "34f2e9d4-d249-4672-ad49-a49b1efd13f7",
    "tags": []
   },
   "outputs": [],
   "source": [
    "particle_cut = events.Muon.pt > 20"
   ]
  },
  {
   "cell_type": "code",
   "execution_count": null,
   "metadata": {
    "colab": {
     "base_uri": "https://localhost:8080/"
    },
    "id": "KjPsp1SLNPPj",
    "outputId": "512971d6-f4e9-4210-871a-36481115f3b5",
    "tags": []
   },
   "outputs": [],
   "source": [
    "muons = events.Muon[particle_cut]"
   ]
  },
  {
   "cell_type": "markdown",
   "metadata": {
    "id": "GU4ELyjwNtDJ"
   },
   "source": [
    "**event-level cut**: This non-jagged array of booleans (made with `ak.any`) selects all events that have a muon with at least 20 GeV in transverse momentum:"
   ]
  },
  {
   "cell_type": "code",
   "execution_count": null,
   "metadata": {
    "colab": {
     "base_uri": "https://localhost:8080/"
    },
    "id": "rCFuSwm8Ncxf",
    "outputId": "4662349d-d2fa-47d9-befb-d9d4cff9e166",
    "tags": []
   },
   "outputs": [],
   "source": [
    "event_cut  = ak.any(events.Muon.pt > 20, axis=1)"
   ]
  },
  {
   "cell_type": "code",
   "execution_count": null,
   "metadata": {
    "colab": {
     "base_uri": "https://localhost:8080/"
    },
    "id": "N_Hewq1RN6PN",
    "outputId": "c9775000-5739-4088-f999-b2c5d2089ade",
    "tags": []
   },
   "outputs": [],
   "source": [
    "muons = events.Muon[event_cut]"
   ]
  },
  {
   "cell_type": "markdown",
   "metadata": {
    "id": "jmFJU2h9Y17v"
   },
   "source": [
    "## **Boost-histogram and Hist**\n",
    "\n",
    "High-energy physicists usually want to fill histograms with more data than can fit in memory, which means setting bin intervals on an empty container and filling it in batches (sequentially or in parallel). Boost-histogram is a library designed for that purpose. \n",
    "\n",
    "A more user-friendly layer is provided by a library called [Hist](https://hist.readthedocs.io/en/latest/), which is a powerful histogramming tool within the python HEP ecosystem for analysis based on Boost-histogram. It provides:\n",
    "\n",
    "* N-dimensional histograms\n",
    "* Discrete and dense axis: Regular, Boolean, Variable, Integer, IntCategory and StrCategory.\n",
    "* Useful methods to transform and index histograms\n",
    "* Plotting via matplotlib or mplhep: stacked and normalized plots, ratio plots, 2D plots, etc."
   ]
  },
  {
   "cell_type": "markdown",
   "metadata": {},
   "source": [
    "**1-dimensional Histogram**"
   ]
  },
  {
   "cell_type": "code",
   "execution_count": null,
   "metadata": {
    "colab": {
     "base_uri": "https://localhost:8080/",
     "height": 150
    },
    "id": "YqBFS7vFZ9Sj",
    "outputId": "370e498b-78be-4056-9c9c-8e3b8a7de1e7",
    "tags": []
   },
   "outputs": [],
   "source": [
    "import hist\n",
    "\n",
    "# definition of a regular axis\n",
    "jet_pt_axis = hist.axis.Regular(\n",
    "    bins=40, \n",
    "    start=20, \n",
    "    stop=1000, \n",
    "    name=\"jet_pt\", \n",
    "    label=\"Jet $p_T$ [GeV]\"\n",
    ")\n",
    "\n",
    "# 1D histogram\n",
    "jet_pt_histogram = hist.Hist(jet_pt_axis)\n",
    "\n",
    "jet_pt_histogram"
   ]
  },
  {
   "cell_type": "markdown",
   "metadata": {
    "id": "Lja3QtPrbtku"
   },
   "source": [
    "Since this is a jagged array, it can't be directly histogrammed. Histograms take a set of numbers as inputs, but this array contains lists.\n",
    "\n",
    "You can use `ak.flatten()` to flatten one level of list or `ak.ravel()` to flatten all levels"
   ]
  },
  {
   "cell_type": "code",
   "execution_count": null,
   "metadata": {
    "id": "H2WQKcgububf",
    "tags": []
   },
   "outputs": [],
   "source": [
    "# filling the histogram\n",
    "jet_pt_histogram.fill(jet_pt=ak.flatten(jet_pt))\n",
    "\n",
    "jet_pt_histogram"
   ]
  },
  {
   "cell_type": "markdown",
   "metadata": {},
   "source": [
    "we can plot the histogram using the `plot1d()` method"
   ]
  },
  {
   "cell_type": "code",
   "execution_count": null,
   "metadata": {
    "tags": []
   },
   "outputs": [],
   "source": [
    "jet_pt_histogram.plot1d();"
   ]
  },
  {
   "cell_type": "markdown",
   "metadata": {},
   "source": [
    "**N-dimensional Histogram**"
   ]
  },
  {
   "cell_type": "code",
   "execution_count": null,
   "metadata": {
    "tags": []
   },
   "outputs": [],
   "source": [
    "import numpy as np\n",
    "\n",
    "# jet axes\n",
    "jet_pt_axis = hist.axis.Variable(\n",
    "    edges=[20, 60, 90, 120, 150, 180, 210, 240, 300, 500],\n",
    "    name=\"jet_pt\",\n",
    "    label=\"Jet $p_T$ [GeV]\"\n",
    ")\n",
    "jet_eta_axis = hist.axis.Regular(\n",
    "    bins=50,\n",
    "    start=-2.4,\n",
    "    stop=2.4,\n",
    "    name=\"jet_eta\",\n",
    "    label=\"jet $\\eta$\"\n",
    ")\n",
    "jet_phi_axis = hist.axis.Regular(\n",
    "    bins=50,\n",
    "    start=-np.pi,\n",
    "    stop=np.pi,\n",
    "    name=\"jet_phi\",\n",
    "    label=\"Jet $\\phi$\"\n",
    ")\n",
    "\n",
    "# 3D histogram\n",
    "jet_histogram = hist.Hist(\n",
    "    jet_pt_axis,\n",
    "    jet_eta_axis,\n",
    "    jet_phi_axis,\n",
    ")\n",
    "jet_histogram"
   ]
  },
  {
   "cell_type": "code",
   "execution_count": null,
   "metadata": {
    "tags": []
   },
   "outputs": [],
   "source": [
    "# filling the histogram\n",
    "jet_histogram.fill(\n",
    "    jet_pt=ak.flatten(events.Jet.pt),\n",
    "    jet_eta=ak.flatten(events.Jet.eta),\n",
    "    jet_phi=ak.flatten(events.Jet.phi)\n",
    ")\n",
    "jet_histogram"
   ]
  },
  {
   "cell_type": "markdown",
   "metadata": {
    "tags": []
   },
   "source": [
    "We can inspect an individual axis, using the `project()` method first"
   ]
  },
  {
   "cell_type": "code",
   "execution_count": null,
   "metadata": {
    "tags": []
   },
   "outputs": [],
   "source": [
    "# project into an axis"
   ]
  },
  {
   "cell_type": "markdown",
   "metadata": {},
   "source": [
    "We could alse visualize 2D histograms using the `plot2d()` method:"
   ]
  },
  {
   "cell_type": "code",
   "execution_count": null,
   "metadata": {
    "tags": []
   },
   "outputs": [],
   "source": [
    "# select all entries for the first two axis"
   ]
  },
  {
   "cell_type": "code",
   "execution_count": null,
   "metadata": {
    "tags": []
   },
   "outputs": [],
   "source": [
    "# plot 2D histogram"
   ]
  },
  {
   "cell_type": "markdown",
   "metadata": {},
   "source": [
    "see more about histogram manipulation and transformations [here](https://github.com/CoffeaTeam/coffea/discussions/705)"
   ]
  },
  {
   "cell_type": "markdown",
   "metadata": {
    "id": "UJzzoQFJSO_z"
   },
   "source": [
    "**Quiz 1 (particle-level cut):** Select electrons that satisfy the following conditions\n",
    "\n",
    "* $p_T \\geq 30$ GeV\n",
    "* $|\\eta| < 2.5$\n",
    "* electrons with a medium MVA identification working point (`mvaFall17V2Iso_WP80`)"
   ]
  },
  {
   "cell_type": "code",
   "execution_count": null,
   "metadata": {
    "id": "TwUmAUYNUzrp"
   },
   "outputs": [],
   "source": []
  },
  {
   "cell_type": "markdown",
   "metadata": {
    "id": "vPBRHdg3RWH9"
   },
   "source": [
    "**Quiz 2: (event-level cut)** Select transverse missing energy (MET) for events in which the condition $p_T(j) \\geq 30$ GeV is met for at least two jets\n",
    "\n",
    "hint: use the `ak.sum()` function"
   ]
  },
  {
   "cell_type": "code",
   "execution_count": null,
   "metadata": {
    "colab": {
     "base_uri": "https://localhost:8080/"
    },
    "id": "MWPbMh_mR0cj",
    "outputId": "eb71078c-ff09-450e-9e4a-faee6a4cb27a",
    "tags": []
   },
   "outputs": [],
   "source": []
  },
  {
   "cell_type": "markdown",
   "metadata": {
    "id": "07NSZN0OQFoi"
   },
   "source": [
    "**Quiz 3:** Using the full dataset:\n",
    "\n",
    "* Select muons that satisfy the following conditions\n",
    "\n",
    "  * $p_T \\geq 35$ GeV\n",
    "  * $|\\eta| < 2.4$\n",
    "  * muons with a tight cut-based identification working point (`tightId`)\n",
    "  * muons with a tight PF Relative Isolation working point (pfRelIso04_all $\\leq 0.15$)\n",
    "\n",
    "* Select the leading and subleading muons $\\mu_1$ and $\\mu_2$ (use the `ak.firsts()` function)\n",
    "* Compute the invariant mass $m(\\mu_1, \\mu_2)$ using the following formula: $$m^2(\\mu_1, \\mu_2) = 2 p_T(\\mu_1)p_T(\\mu_2)f(\\eta, \\phi)$$\n",
    "\n",
    "  where $$f(\\eta, \\phi) = \\cosh[\\eta(\\mu_1) - \\eta(\\mu_2)] - \\cos[\\phi(\\mu_1) - \\phi(\\mu_2)]$$\n",
    "* Select events such that $60 < m < 120$ (GeV)\n",
    "* Create and plot an histogram of the invariant mass (hint: use the `ak.fill_none()` if needed)"
   ]
  },
  {
   "cell_type": "code",
   "execution_count": null,
   "metadata": {},
   "outputs": [],
   "source": []
  }
 ],
 "metadata": {
  "colab": {
   "provenance": []
  },
  "kernelspec": {
   "display_name": "Python 3 (ipykernel)",
   "language": "python",
   "name": "python3"
  },
  "language_info": {
   "codemirror_mode": {
    "name": "ipython",
    "version": 3
   },
   "file_extension": ".py",
   "mimetype": "text/x-python",
   "name": "python",
   "nbconvert_exporter": "python",
   "pygments_lexer": "ipython3",
   "version": "3.8.16"
  }
 },
 "nbformat": 4,
 "nbformat_minor": 4
}
